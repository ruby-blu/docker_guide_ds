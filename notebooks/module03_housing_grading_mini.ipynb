{
  "cells": [
    {
      "cell_type": "markdown",
      "metadata": {
        "id": "dYY_wyUQuxmS"
      },
      "source": [
        "Prep work:\n",
        "\n",
        "*   Download team csv predictions file\n",
        "\n",
        "*   Rename files to team8-module3-predictions.csv where team8 is the name of your team\n",
        "*   Make sure file is one column and remove any extra columns\n",
        "*   Make sure the heading is set to \"price\" (without quotes)\n",
        "*   Upload csv predictions to session storage area.\n",
        "  *   Click the folder icon, then click the upload icon (paper with an upward arrow)\n",
        "*   Run the notebook (Runtime -> Run all)\n",
        "\n",
        "\n",
        "\n",
        "\n",
        "\n",
        "\n"
      ]
    },
    {
      "cell_type": "code",
      "execution_count": 56,
      "metadata": {
        "id": "ZeZMLW3ytz01"
      },
      "outputs": [],
      "source": [
        "# MODULE 03 - HOUSING HOLDOUT GRADING\n",
        "\n",
        "from pathlib import Path\n",
        "import pandas as pd\n",
        "import seaborn as sns\n",
        "import matplotlib.pyplot as plt\n",
        "import numpy as np\n",
        "from sklearn.metrics import confusion_matrix\n",
        "from sklearn.metrics import root_mean_squared_error, mean_squared_error, r2_score, mean_absolute_error, median_absolute_error\n",
        "\n",
        "# READ IN THE CSV FILES\n",
        "team_dir = Path(\"./\")\n",
        "teams = team_dir.glob(\"*-predictions.csv\")\n",
        "team_list = []\n",
        "for team in teams:\n",
        "  # print(latent_file)\n",
        "  team_list.append((str(team).split(\"-\",1)[0],team))\n",
        "\n",
        "# print(team_list)"
      ]
    },
    {
      "cell_type": "code",
      "execution_count": 57,
      "metadata": {
        "id": "HhWSijWbvqMW"
      },
      "outputs": [],
      "source": [
        "# READ IN THE HOLDOUT ANSWERS\n",
        "targets_file = \"https://raw.githubusercontent.com/byui-cse/cse450-course/master/data/housing_holdout_test_mini_answers.csv\"\n",
        "targets = pd.read_csv(targets_file)\n",
        "# targets"
      ]
    },
    {
      "cell_type": "code",
      "execution_count": 58,
      "metadata": {
        "colab": {
          "base_uri": "https://localhost:8080/"
        },
        "id": "gSHn-_3f0eqx",
        "outputId": "ba986023-44f6-4d26-8c36-69bd96ae1a10"
      },
      "outputs": [
        {
          "output_type": "stream",
          "name": "stdout",
          "text": [
            "Group team1 added successfully\n"
          ]
        }
      ],
      "source": [
        "# ARE THE STUDENT DATASETS THE CORRECT LENGTH\n",
        "student_datasets = {}\n",
        "for (group, file) in team_list:\n",
        "  ds = pd.read_csv(file)\n",
        "\n",
        "  if ds.shape != targets.shape:\n",
        "    print(f\"Error group {group} ds had {ds.shape} rows and columns instead of the expected {targets.shape}. It will be excluded.\")\n",
        "  else:\n",
        "    student_datasets[group] = ds\n",
        "    print(f\"Group {group} added successfully\")"
      ]
    },
    {
      "cell_type": "code",
      "execution_count": 59,
      "metadata": {
        "id": "9sBeLEAl1OXi"
      },
      "outputs": [],
      "source": [
        "# student_datasets"
      ]
    },
    {
      "cell_type": "code",
      "execution_count": 60,
      "metadata": {
        "id": "LhxXUH3d2Lqy"
      },
      "outputs": [],
      "source": [
        "results_dict = {}"
      ]
    },
    {
      "cell_type": "code",
      "execution_count": 61,
      "metadata": {
        "id": "mS0t9a551Pbw"
      },
      "outputs": [],
      "source": [
        "for group, student_ds in student_datasets.items():\n",
        "  student_dict = {}\n",
        "  # print(group,cm)\n",
        "  student_ds.columns=['price']\n",
        "  mse = root_mean_squared_error(targets, student_ds)\n",
        "  # print(\"{} - RMSE: {}\".format(group, mse))\n",
        "\n",
        "  student_dict[\"RMSE\"] = root_mean_squared_error(targets, student_ds)\n",
        "  student_dict[\"Mean Abs Error\"] = mean_absolute_error(targets, student_ds)\n",
        "  student_dict[\"Median Abs Error\"] = median_absolute_error(targets, student_ds)\n",
        "  student_dict[\"R2\"] = r2_score(targets, student_ds)\n",
        "\n",
        "  combined = pd.concat([targets, student_ds], axis=1)\n",
        "  combined.columns = [\"target\", \"pred\"]\n",
        "  combined[\"absdiff\"] = (combined[\"target\"] - combined[\"pred\"]).abs()\n",
        "  combined[\"absdiff_pct\"] = combined[\"absdiff\"] / combined[\"target\"]\n",
        "\n",
        "  shower = pd.DataFrame(student_ds, columns = ['price'])\n",
        "  shower.columns = ['predictions']\n",
        "  testfinal = pd.concat([shower,targets['price']],axis=1)\n",
        "  testfinal['difference'] = testfinal['price']-testfinal['predictions']\n",
        "  testfinal['percent_difference'] = abs(testfinal['difference']/testfinal['price'])\n",
        "  testfinal['percent_bucket'] = [ \"above 20%\" if i >= 0.2 else \"below 20%\" for i in testfinal.percent_difference ]\n",
        "\n",
        "  # testfinal\n",
        "\n",
        "  student_dict['dataset'] = testfinal\n",
        "  percents = [5, 10, 20]\n",
        "  for percent in percents:\n",
        "    student_dict[f\"Percent of houses within {percent} percent\"] = len(combined[combined[\"absdiff_pct\"] <= (percent /100)]) / len(combined) * 100\n",
        "\n",
        "  results_dict[group] = student_dict"
      ]
    },
    {
      "cell_type": "code",
      "execution_count": 62,
      "metadata": {
        "id": "TqhAO4uSOWdQ"
      },
      "outputs": [],
      "source": [
        "#df['predictions']"
      ]
    },
    {
      "cell_type": "code",
      "execution_count": 63,
      "metadata": {
        "id": "TOe4NUIX36KP"
      },
      "outputs": [],
      "source": [
        "# results_dict"
      ]
    },
    {
      "cell_type": "code",
      "execution_count": 64,
      "metadata": {
        "id": "DfrNcraU2VwJ"
      },
      "outputs": [],
      "source": [
        "results_df = pd.DataFrame(results_dict)\n",
        "results_ds_trans = results_df.transpose()\n",
        "results_ds_trans = results_ds_trans.drop(columns=[\"dataset\"])\n",
        "\n",
        "results_ds_trans = results_ds_trans.round(2)\n",
        "results_ds_trans = results_ds_trans.sort_values(by=\"R2\",ascending=False)\n"
      ]
    },
    {
      "cell_type": "code",
      "execution_count": 65,
      "metadata": {
        "id": "8p9zWeqjoTzG"
      },
      "outputs": [],
      "source": [
        "# results_df"
      ]
    },
    {
      "cell_type": "code",
      "execution_count": 66,
      "metadata": {
        "colab": {
          "base_uri": "https://localhost:8080/",
          "height": 991
        },
        "id": "oK0gEcXVjjab",
        "outputId": "9266efe3-c768-48ab-a387-1c2d8b5b82ec"
      },
      "outputs": [
        {
          "output_type": "stream",
          "name": "stdout",
          "text": [
            "-------------------------------- TEAM1 RESULTS ---------------------------------\n",
            "\n",
            " Within 5%: 22.22222222222222%\n",
            " Within 10%: 49.382716049382715%\n",
            " Within 20%: 79.01234567901234%\n",
            " R^2: 0.8847459814591102%\n",
            " RMSE: 97041.23829409425\n",
            " Mean Absolute Error: 68543.55654320988\n",
            " Median Aboslute Error: 46323.0\n"
          ]
        },
        {
          "output_type": "display_data",
          "data": {
            "text/plain": [
              "<Figure size 1170x827 with 1 Axes>"
            ],
            "image/png": "[encoded data removed]"
          },
          "metadata": {}
        },
        {
          "output_type": "stream",
          "name": "stdout",
          "text": [
            "-----------------------------------------------------------------------------\n",
            "\n",
            "\n",
            "\n",
            "\n"
          ]
        }
      ],
      "source": [
        "sns.set(rc={'figure.figsize':(11.7,8.27)})\n",
        "for team_results in results_dict.items():\n",
        "  testfinal = team_results[1]['dataset']\n",
        "  # print(team_results['dataset'])\n",
        "  # print(f\"R-Squared Value: {r2}\")\n",
        "  print(f\"-------------------------------- {team_results[0].upper()} RESULTS ---------------------------------\\n\")\n",
        "  print(f\" Within 5%: {team_results[1]['Percent of houses within 5 percent']}%\\n\",\n",
        "  f\"Within 10%: {team_results[1]['Percent of houses within 10 percent']}%\\n\",\n",
        "  f\"Within 20%: {team_results[1]['Percent of houses within 20 percent']}%\\n\",\n",
        "  f\"R^2: {team_results[1]['R2']}%\\n\",\n",
        "  f\"RMSE: {team_results[1]['RMSE']}\\n\",\n",
        "  f\"Mean Absolute Error: {team_results[1]['Mean Abs Error']}\\n\",\n",
        "  f\"Median Aboslute Error: {team_results[1]['Median Abs Error']}\")\n",
        "\n",
        "\n",
        "  color_dict = dict({'below 20%':'tab:blue',\n",
        "                    'above 20%': 'tab:orange'})\n",
        "  # print(testfinal['abspercentmiss'].describe(percentiles=[.1,.2,.3,.4,.5,.6,.7,.8,.9,.95]))\n",
        "  xlims=(0,4e6)\n",
        "  ylims=(0,4e6)\n",
        "  ax = sns.scatterplot(data=testfinal,x='price',y='predictions',hue=\"percent_bucket\",palette=color_dict)\n",
        "  # ax.set(xscale=\"log\", yscale=\"log\", xlim=xlims, ylim=ylims)\n",
        "  ax.plot(xlims,xlims, color='r')\n",
        "  # plt.legend(labels=['perfect',\"below 5\",'above 5','10-20%','above 20'])\n",
        "  plt.show()\n",
        "  print(f\"-\"*77)\n",
        "  print(\"\\n\"*3)\n"
      ]
    },
    {
      "cell_type": "code",
      "execution_count": 67,
      "metadata": {
        "colab": {
          "base_uri": "https://localhost:8080/",
          "height": 98
        },
        "id": "92k4OAHCFZp7",
        "outputId": "9cab29bb-26a8-4c1f-8e7b-e9625f82b2d7"
      },
      "outputs": [
        {
          "output_type": "execute_result",
          "data": {
            "text/plain": [
              "               RMSE Mean Abs Error Median Abs Error        R2  \\\n",
              "team1  97041.238294   68543.556543          46323.0  0.884746   \n",
              "\n",
              "      Percent of houses within 5 percent Percent of houses within 10 percent  \\\n",
              "team1                          22.222222                           49.382716   \n",
              "\n",
              "      Percent of houses within 20 percent  \n",
              "team1                           79.012346  "
            ],
            "text/html": [
              "\n",
              "  <div id=\"df-d734cb5d-736f-4029-a216-a4bcde49865f\" class=\"colab-df-container\">\n",
              "    <div>\n",
              "<style scoped>\n",
              "    .dataframe tbody tr th:only-of-type {\n",
              "        vertical-align: middle;\n",
              "    }\n",
              "\n",
              "    .dataframe tbody tr th {\n",
              "        vertical-align: top;\n",
              "    }\n",
              "\n",
              "    .dataframe thead th {\n",
              "        text-align: right;\n",
              "    }\n",
              "</style>\n",
              "<table border=\"1\" class=\"dataframe\">\n",
              "  <thead>\n",
              "    <tr style=\"text-align: right;\">\n",
              "      <th></th>\n",
              "      <th>RMSE</th>\n",
              "      <th>Mean Abs Error</th>\n",
              "      <th>Median Abs Error</th>\n",
              "      <th>R2</th>\n",
              "      <th>Percent of houses within 5 percent</th>\n",
              "      <th>Percent of houses within 10 percent</th>\n",
              "      <th>Percent of houses within 20 percent</th>\n",
              "    </tr>\n",
              "  </thead>\n",
              "  <tbody>\n",
              "    <tr>\n",
              "      <th>team1</th>\n",
              "      <td>97041.238294</td>\n",
              "      <td>68543.556543</td>\n",
              "      <td>46323.0</td>\n",
              "      <td>0.884746</td>\n",
              "      <td>22.222222</td>\n",
              "      <td>49.382716</td>\n",
              "      <td>79.012346</td>\n",
              "    </tr>\n",
              "  </tbody>\n",
              "</table>\n",
              "</div>\n",
              "    <div class=\"colab-df-buttons\">\n",
              "\n",
              "  <div class=\"colab-df-container\">\n",
              "    <button class=\"colab-df-convert\" onclick=\"convertToInteractive('df-d734cb5d-736f-4029-a216-a4bcde49865f')\"\n",
              "            title=\"Convert this dataframe to an interactive table.\"\n",
              "            style=\"display:none;\">\n",
              "\n",
              "  <svg xmlns=\"http://www.w3.org/2000/svg\" height=\"24px\" viewBox=\"0 -960 960 960\">\n",
              "    <path d=\"M120-120v-720h720v720H120Zm60-500h600v-160H180v160Zm220 220h160v-160H400v160Zm0 220h160v-160H400v160ZM180-400h160v-160H180v160Zm440 0h160v-160H620v160ZM180-180h160v-160H180v160Zm440 0h160v-160H620v160Z\"/>\n",
              "  </svg>\n",
              "    </button>\n",
              "\n",
              "  <style>\n",
              "    .colab-df-container {\n",
              "      display:flex;\n",
              "      gap: 12px;\n",
              "    }\n",
              "\n",
              "    .colab-df-convert {\n",
              "      background-color: #E8F0FE;\n",
              "      border: none;\n",
              "      border-radius: 50%;\n",
              "      cursor: pointer;\n",
              "      display: none;\n",
              "      fill: #1967D2;\n",
              "      height: 32px;\n",
              "      padding: 0 0 0 0;\n",
              "      width: 32px;\n",
              "    }\n",
              "\n",
              "    .colab-df-convert:hover {\n",
              "      background-color: #E2EBFA;\n",
              "      box-shadow: 0px 1px 2px rgba(60, 64, 67, 0.3), 0px 1px 3px 1px rgba(60, 64, 67, 0.15);\n",
              "      fill: #174EA6;\n",
              "    }\n",
              "\n",
              "    .colab-df-buttons div {\n",
              "      margin-bottom: 4px;\n",
              "    }\n",
              "\n",
              "    [theme=dark] .colab-df-convert {\n",
              "      background-color: #3B4455;\n",
              "      fill: #D2E3FC;\n",
              "    }\n",
              "\n",
              "    [theme=dark] .colab-df-convert:hover {\n",
              "      background-color: #434B5C;\n",
              "      box-shadow: 0px 1px 3px 1px rgba(0, 0, 0, 0.15);\n",
              "      filter: drop-shadow(0px 1px 2px rgba(0, 0, 0, 0.3));\n",
              "      fill: #FFFFFF;\n",
              "    }\n",
              "  </style>\n",
              "\n",
              "    <script>\n",
              "      const buttonEl =\n",
              "        document.querySelector('#df-d734cb5d-736f-4029-a216-a4bcde49865f button.colab-df-convert');\n",
              "      buttonEl.style.display =\n",
              "        google.colab.kernel.accessAllowed ? 'block' : 'none';\n",
              "\n",
              "      async function convertToInteractive(key) {\n",
              "        const element = document.querySelector('#df-d734cb5d-736f-4029-a216-a4bcde49865f');\n",
              "        const dataTable =\n",
              "          await google.colab.kernel.invokeFunction('convertToInteractive',\n",
              "                                                    [key], {});\n",
              "        if (!dataTable) return;\n",
              "\n",
              "        const docLinkHtml = 'Like what you see? Visit the ' +\n",
              "          '<a target=\"_blank\" href=https://colab.research.google.com/notebooks/data_table.ipynb>data table notebook</a>'\n",
              "          + ' to learn more about interactive tables.';\n",
              "        element.innerHTML = '';\n",
              "        dataTable['output_type'] = 'display_data';\n",
              "        await google.colab.output.renderOutput(dataTable, element);\n",
              "        const docLink = document.createElement('div');\n",
              "        docLink.innerHTML = docLinkHtml;\n",
              "        element.appendChild(docLink);\n",
              "      }\n",
              "    </script>\n",
              "  </div>\n",
              "\n",
              "\n",
              "  <div id=\"id_6f97ca37-ee7d-4d33-8074-06b071cd594b\">\n",
              "    <style>\n",
              "      .colab-df-generate {\n",
              "        background-color: #E8F0FE;\n",
              "        border: none;\n",
              "        border-radius: 50%;\n",
              "        cursor: pointer;\n",
              "        display: none;\n",
              "        fill: #1967D2;\n",
              "        height: 32px;\n",
              "        padding: 0 0 0 0;\n",
              "        width: 32px;\n",
              "      }\n",
              "\n",
              "      .colab-df-generate:hover {\n",
              "        background-color: #E2EBFA;\n",
              "        box-shadow: 0px 1px 2px rgba(60, 64, 67, 0.3), 0px 1px 3px 1px rgba(60, 64, 67, 0.15);\n",
              "        fill: #174EA6;\n",
              "      }\n",
              "\n",
              "      [theme=dark] .colab-df-generate {\n",
              "        background-color: #3B4455;\n",
              "        fill: #D2E3FC;\n",
              "      }\n",
              "\n",
              "      [theme=dark] .colab-df-generate:hover {\n",
              "        background-color: #434B5C;\n",
              "        box-shadow: 0px 1px 3px 1px rgba(0, 0, 0, 0.15);\n",
              "        filter: drop-shadow(0px 1px 2px rgba(0, 0, 0, 0.3));\n",
              "        fill: #FFFFFF;\n",
              "      }\n",
              "    </style>\n",
              "    <button class=\"colab-df-generate\" onclick=\"generateWithVariable('results_ds_trans')\"\n",
              "            title=\"Generate code using this dataframe.\"\n",
              "            style=\"display:none;\">\n",
              "\n",
              "  <svg xmlns=\"http://www.w3.org/2000/svg\" height=\"24px\"viewBox=\"0 0 24 24\"\n",
              "       width=\"24px\">\n",
              "    <path d=\"M7,19H8.4L18.45,9,17,7.55,7,17.6ZM5,21V16.75L18.45,3.32a2,2,0,0,1,2.83,0l1.4,1.43a1.91,1.91,0,0,1,.58,1.4,1.91,1.91,0,0,1-.58,1.4L9.25,21ZM18.45,9,17,7.55Zm-12,3A5.31,5.31,0,0,0,4.9,8.1,5.31,5.31,0,0,0,1,6.5,5.31,5.31,0,0,0,4.9,4.9,5.31,5.31,0,0,0,6.5,1,5.31,5.31,0,0,0,8.1,4.9,5.31,5.31,0,0,0,12,6.5,5.46,5.46,0,0,0,6.5,12Z\"/>\n",
              "  </svg>\n",
              "    </button>\n",
              "    <script>\n",
              "      (() => {\n",
              "      const buttonEl =\n",
              "        document.querySelector('#id_6f97ca37-ee7d-4d33-8074-06b071cd594b button.colab-df-generate');\n",
              "      buttonEl.style.display =\n",
              "        google.colab.kernel.accessAllowed ? 'block' : 'none';\n",
              "\n",
              "      buttonEl.onclick = () => {\n",
              "        google.colab.notebook.generateWithVariable('results_ds_trans');\n",
              "      }\n",
              "      })();\n",
              "    </script>\n",
              "  </div>\n",
              "\n",
              "    </div>\n",
              "  </div>\n"
            ],
            "application/vnd.google.colaboratory.intrinsic+json": {
              "type": "dataframe",
              "variable_name": "results_ds_trans",
              "summary": "{\n  \"name\": \"results_ds_trans\",\n  \"rows\": 1,\n  \"fields\": [\n    {\n      \"column\": \"RMSE\",\n      \"properties\": {\n        \"dtype\": \"date\",\n        \"min\": 97041.23829409425,\n        \"max\": 97041.23829409425,\n        \"num_unique_values\": 1,\n        \"samples\": [\n          97041.23829409425\n        ],\n        \"semantic_type\": \"\",\n        \"description\": \"\"\n      }\n    },\n    {\n      \"column\": \"Mean Abs Error\",\n      \"properties\": {\n        \"dtype\": \"date\",\n        \"min\": 68543.55654320988,\n        \"max\": 68543.55654320988,\n        \"num_unique_values\": 1,\n        \"samples\": [\n          68543.55654320988\n        ],\n        \"semantic_type\": \"\",\n        \"description\": \"\"\n      }\n    },\n    {\n      \"column\": \"Median Abs Error\",\n      \"properties\": {\n        \"dtype\": \"date\",\n        \"min\": 46323.0,\n        \"max\": 46323.0,\n        \"num_unique_values\": 1,\n        \"samples\": [\n          46323.0\n        ],\n        \"semantic_type\": \"\",\n        \"description\": \"\"\n      }\n    },\n    {\n      \"column\": \"R2\",\n      \"properties\": {\n        \"dtype\": \"date\",\n        \"min\": 0.8847459814591102,\n        \"max\": 0.8847459814591102,\n        \"num_unique_values\": 1,\n        \"samples\": [\n          0.8847459814591102\n        ],\n        \"semantic_type\": \"\",\n        \"description\": \"\"\n      }\n    },\n    {\n      \"column\": \"Percent of houses within 5 percent\",\n      \"properties\": {\n        \"dtype\": \"date\",\n        \"min\": 22.22222222222222,\n        \"max\": 22.22222222222222,\n        \"num_unique_values\": 1,\n        \"samples\": [\n          22.22222222222222\n        ],\n        \"semantic_type\": \"\",\n        \"description\": \"\"\n      }\n    },\n    {\n      \"column\": \"Percent of houses within 10 percent\",\n      \"properties\": {\n        \"dtype\": \"date\",\n        \"min\": 49.382716049382715,\n        \"max\": 49.382716049382715,\n        \"num_unique_values\": 1,\n        \"samples\": [\n          49.382716049382715\n        ],\n        \"semantic_type\": \"\",\n        \"description\": \"\"\n      }\n    },\n    {\n      \"column\": \"Percent of houses within 20 percent\",\n      \"properties\": {\n        \"dtype\": \"date\",\n        \"min\": 79.01234567901234,\n        \"max\": 79.01234567901234,\n        \"num_unique_values\": 1,\n        \"samples\": [\n          79.01234567901234\n        ],\n        \"semantic_type\": \"\",\n        \"description\": \"\"\n      }\n    }\n  ]\n}"
            }
          },
          "metadata": {},
          "execution_count": 67
        }
      ],
      "source": [
        "results_ds_trans = results_df.transpose()\n",
        "\n",
        "results_ds_trans = results_ds_trans.drop(columns=[\"dataset\"])\n",
        "results_ds_trans.to_csv(\"class_results.csv\")\n",
        "results_ds_trans"
      ]
    }
  ],
  "metadata": {
    "colab": {
      "name": "Module03-housing-grading_mini.ipynb",
      "provenance": []
    },
    "kernelspec": {
      "display_name": "Python 3",
      "language": "python",
      "name": "python3"
    },
    "language_info": {
      "name": "python",
      "version": "3.8.5"
    },
    "vscode": {
      "interpreter": {
        "hash": "011be37f879e0ba7a3d94f28c1e9a24aca4c9c0e96be9163ce8dabdf859b445e"
      }
    }
  },
  "nbformat": 4,
  "nbformat_minor": 0
}